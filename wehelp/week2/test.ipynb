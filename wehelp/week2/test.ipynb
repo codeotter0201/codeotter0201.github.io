{
 "cells": [
  {
   "cell_type": "code",
   "execution_count": 59,
   "metadata": {},
   "outputs": [
    {
     "name": "stdout",
     "output_type": "stream",
     "text": [
      "None\n",
      "None\n",
      "None\n",
      "None\n",
      "None\n",
      "None\n",
      "None\n",
      "Copper\n",
      "None\n",
      "None\n",
      "None\n",
      "None\n",
      "Leslie\n",
      "None\n",
      "None\n",
      "None\n",
      "None\n",
      "Vivian\n",
      "None\n",
      "None\n",
      "None\n"
     ]
    }
   ],
   "source": [
    "\"\"\"\n",
    "Task 1:\n",
    "We have example messages from 6 persons in JSON format. There are at least 3 persons\n",
    "who are older than 17. Find out those who are most probably older than 17 years old based\n",
    "on example messages. Print their names in the console.\n",
    "\"\"\"\n",
    "import re\n",
    "def check_sentence_age(sentence:str, minimum_age:int) -> bool:\n",
    "    pattern = rf\"\\b(\\d{1,2})\\s?(?:years old)\\b\"\n",
    "    match = re.search(pattern, sentence)\n",
    "    print(match)\n",
    "    if match:\n",
    "        if int(match.group(1)) >= minimum_age:\n",
    "            return True\n",
    "    return False\n",
    "\n",
    "def find_and_print(messages):\n",
    "    # write down your judgment rules in comments\n",
    "    # your code here, based on your own rules\n",
    "    keywords = [\"college student\", \"legal age\", \"vote\"]\n",
    "    for name, v in messages.items():\n",
    "        for condition in keywords:\n",
    "            if check_sentence_age(v, minimum_age=18):\n",
    "                print(name)\n",
    "                break\n",
    "            if condition in v:\n",
    "                print(name)\n",
    "\n",
    "find_and_print({\n",
    "\"Bob\":\"My name is Bob. I'm 18 years old.\",\n",
    "\"Mary\":\"Hello, glad to meet you.\",\n",
    "\"Copper\":\"I'm a college student. Nice to meet you.\",\n",
    "\"Leslie\":\"I am of legal age in Taiwan.\",\n",
    "\"Vivian\":\"I will vote for Donald Trump next week\",\n",
    "\"Jenny\":\"Good morning.\"\n",
    "})\n",
    "# s = \"My name is Bob. I'm 18 years old.\"\n",
    "# pattern = r\"\\b(\\d{1,2})\\s?(?:years old)\\b\"\n",
    "# match = re.search(pattern, s)\n",
    "# match.group(1)\n",
    "\n",
    "# check_age(s, 22)"
   ]
  },
  {
   "cell_type": "code",
   "execution_count": 70,
   "metadata": {},
   "outputs": [
    {
     "name": "stdout",
     "output_type": "stream",
     "text": [
      "total bonus: 6900.0\n"
     ]
    }
   ],
   "source": [
    "\"\"\"\n",
    "Task 2:\n",
    "Complete functions below to calculate sum of bonus of all employees in TWD and print it.\n",
    "1. Bonus should depend on salary, performance and role fields. Define your own rules\n",
    "and calculate a bonus for each employee based on it.\n",
    "2. Sum of bonus of all employees cannot exceed 10000 TWD based on your rules and\n",
    "example data.\n",
    "3. You can assume the USD to TWD Exchange Rate is 30.\n",
    "4. Salary is default to TWD if there is no specific mark.\n",
    "\"\"\"\n",
    "def calculate_sum_of_bonus(data):\n",
    "    \"\"\"\n",
    "    performance bonus ratio \"above average\" : 5%\n",
    "    performance bonus ratio \"average\": 3%\n",
    "    performance bonus ratio \"below average\": 1%\n",
    "\n",
    "    role bonus ratio \"Engineer\": 5%\n",
    "    role bonus ratio \"Sales\": 3%\n",
    "    role bonus ratio \"CEO\": 1%\n",
    "\n",
    "    The bonus of each staff is: min(salary * (performance ratio + role ratio), 2500)\n",
    "    \"\"\"\n",
    "    # write down your bonus rules in comments\n",
    "    # your code here, based on your own rules\n",
    "\n",
    "    total_bonus = 0\n",
    "    for staff in data[\"employees\"]:\n",
    "        staff['bonus_ratio'] = 0\n",
    "\n",
    "        if staff[\"performance\"] == \"above average\":\n",
    "            staff['bonus_ratio'] += 0.05\n",
    "        elif staff[\"performance\"] == \"average\":\n",
    "            staff['bonus_ratio'] += 0.03\n",
    "        elif staff[\"performance\"] == \"below average\":\n",
    "            staff['bonus_ratio'] += 0.01\n",
    "\n",
    "        if staff[\"role\"] == \"Engineer\":\n",
    "            staff['bonus_ratio'] += 0.05\n",
    "        elif staff[\"role\"] == \"Sales\":\n",
    "            staff['bonus_ratio'] += 0.03\n",
    "        elif staff[\"role\"] == \"CEO\":\n",
    "            staff['bonus_ratio'] += 0.01\n",
    "\n",
    "        if isinstance(staff[\"salary\"], str):\n",
    "            if \"USD\" in staff[\"salary\"]:\n",
    "                staff[\"salary\"] = int(staff[\"salary\"].replace(\"USD\", \"\")) * 30\n",
    "            elif \",\" in staff[\"salary\"]:\n",
    "                staff[\"salary\"] = int(staff[\"salary\"].replace(\",\", \"\"))\n",
    "\n",
    "        staff[\"bonus\"] = min(staff[\"salary\"] * staff['bonus_ratio'], 2500)\n",
    "        \n",
    "        total_bonus += staff[\"bonus\"]\n",
    "\n",
    "    print(f\"total bonus: {total_bonus}\")\n",
    "\n",
    "calculate_sum_of_bonus({\n",
    "\"employees\":[\n",
    "{\n",
    "\"name\":\"John\",\n",
    "\"salary\":\"1000USD\",\n",
    "\"performance\":\"above average\",\n",
    "\"role\":\"Engineer\"\n",
    "},\n",
    "{\n",
    "\"name\":\"Bob\",\n",
    "\"salary\":60000,\n",
    "\"performance\":\"average\",\n",
    "\"role\":\"CEO\"\n",
    "},\n",
    "{\n",
    "\"name\":\"Jenny\",\n",
    "\"salary\":\"50,000\",\n",
    "\"performance\":\"below average\",\n",
    "\"role\":\"Sales\"\n",
    "}\n",
    "]\n",
    "}) # call calculate_sum_of_bonus function"
   ]
  },
  {
   "cell_type": "code",
   "execution_count": 72,
   "metadata": {},
   "outputs": [
    {
     "name": "stdout",
     "output_type": "stream",
     "text": [
      "彭大牆\n",
      "林花花\n",
      "沒有\n"
     ]
    }
   ],
   "source": [
    "\"\"\"\n",
    "Task 3:\n",
    "Find out whose middle name is unique among all the names, and print it. You can assume\n",
    "every input is a Chinese name with 2 ~ 3 words. If there are only 2 words in a name, the\n",
    "middle name is defined as the second word.\n",
    "\"\"\"\n",
    "\n",
    "def func(*data):\n",
    "    # your code here\n",
    "    temp = {}\n",
    "    for name in data:\n",
    "        temp[name[1]] = temp.get(name[1], [])\n",
    "        temp[name[1]].append(name)\n",
    "\n",
    "    for k, v in temp.items():\n",
    "        if len(v) == 1:\n",
    "            print(v[0])\n",
    "            return\n",
    "    \n",
    "    print(\"沒有\")\n",
    "    return\n",
    "\n",
    "func(\"彭大牆\", \"王明雅\", \"吳明\") # print 彭大牆\n",
    "func(\"郭靜雅\", \"王立強\", \"林靜宜\", \"郭立恆\", \"林花花\") # print 林花花\n",
    "func(\"郭宣雅\", \"林靜宜\", \"郭宣恆\", \"林靜花\") # print 沒有"
   ]
  },
  {
   "cell_type": "code",
   "execution_count": 67,
   "metadata": {},
   "outputs": [
    {
     "name": "stdout",
     "output_type": "stream",
     "text": [
      "Ans: 4\n",
      "Ans: 10\n",
      "Ans: 15\n"
     ]
    }
   ],
   "source": [
    "\"\"\"\n",
    "Task 4:\n",
    "There is a number sequence: 0, 4, 3, 7, 6, 10, 9, 13, 12, 16, 15, ...\n",
    "Find out the nth term in this sequence.\n",
    "\"\"\"\n",
    "\n",
    "def get_number(index:int):\n",
    "    if index >= 0:\n",
    "        ret = ((index + 1) // 2 * 4) - ((index // 2))\n",
    "        print(f\"Ans: {ret}\")\n",
    "\n",
    "get_number(1) # print 4\n",
    "get_number(5) # print 10\n",
    "get_number(10) # print 15"
   ]
  },
  {
   "cell_type": "code",
   "execution_count": 7,
   "metadata": {},
   "outputs": [
    {
     "name": "stdout",
     "output_type": "stream",
     "text": [
      "4\n",
      "-1\n",
      "2\n"
     ]
    }
   ],
   "source": [
    "\"\"\"\n",
    "Task 5 (Optional):\n",
    "Given available seats for each car of a train, status bitmap, and number of incoming\n",
    "passengers, writing a procedure to find out the index of the most fitted car to serve\n",
    "passengers. Print -1 if there is no car which can serve incoming passengers.\n",
    "- Available Seats: list/array containing number of available seats for each car.\n",
    "- Status Bitmap: list/array containing only 0 or 1. 1 means the corresponding car can\n",
    "serve passengers for now.\n",
    "- Passenger Number: number of incoming passengers.\n",
    "We can assume all incoming passengers should be served in the same car.\n",
    "\"\"\"\n",
    "\n",
    "def find_index_of_car(seats, status, number):\n",
    "    # your code here\n",
    "    ret = {}\n",
    "    for i, v in enumerate(status):\n",
    "        if v == 1:\n",
    "            if seats[i] >= number:\n",
    "                ret[i] = seats[i] - number\n",
    "    if not ret:\n",
    "        min_key = -1\n",
    "    else:\n",
    "        min_key = min(ret, key=ret.get)\n",
    "\n",
    "    print(min_key)\n",
    "\n",
    "find_index_of_car([3, 1, 5, 4, 2], [0, 1, 0, 1, 1], 2) # print 4\n",
    "find_index_of_car([1, 0, 5, 1, 3], [0, 1, 0, 1, 1], 4) # print -1\n",
    "find_index_of_car([4, 6, 5, 8], [0, 1, 1, 1], 4) # print 2"
   ]
  }
 ],
 "metadata": {
  "kernelspec": {
   "display_name": "Python 3",
   "language": "python",
   "name": "python3"
  },
  "language_info": {
   "codemirror_mode": {
    "name": "ipython",
    "version": 3
   },
   "file_extension": ".py",
   "mimetype": "text/x-python",
   "name": "python",
   "nbconvert_exporter": "python",
   "pygments_lexer": "ipython3",
   "version": "3.10.0"
  },
  "orig_nbformat": 4
 },
 "nbformat": 4,
 "nbformat_minor": 2
}
