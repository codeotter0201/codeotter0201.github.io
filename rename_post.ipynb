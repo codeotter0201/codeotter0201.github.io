{
 "cells": [
  {
   "cell_type": "code",
   "execution_count": 18,
   "metadata": {},
   "outputs": [
    {
     "name": "stdout",
     "output_type": "stream",
     "text": [
      "2021-07-23_other_why_do_i_build_blog.md\n",
      "2021-01-19_trading_adjust_ohlcv.md\n",
      "2022-03-30_trading_do_backtest_with_vectorbt_python.md\n",
      "2022-03-27_trading_MAEMFE.md\n",
      "2021-04-01_trading_ohlcv_dataprocessing.md\n",
      "2021-08-29_trading_plot_strategy_performance.md\n",
      "2021-06-25_trading_rise_position.md\n",
      "2022-02-01_trading_shioajiapi_crawlers.md\n",
      "2021-12-08_trading_shioajiapi_orderbook.md\n",
      "2022-05-02_trading_shioajiapi_touchprice.md\n",
      "2021-05-03_trading_stoploss.md\n",
      "2022-02-20_trading_what_different_between_hold_and_strategy.md\n"
     ]
    }
   ],
   "source": [
    "import os\n",
    "import pandas as pd\n",
    "for file_name in os.listdir('content\\posts'):\n",
    "    file_path = os.path.join('content\\posts', file_name)\n",
    "    new_name = pd.Series(pd.date_range('2021-01-01', '2022-05-31')).astype(str).sample(1).iloc[0] + '_' + file_name \n",
    "    new_file_path = os.path.join('content\\posts', new_name)\n",
    "    os.rename(file_path, new_file_path)\n",
    "    print(new_name)"
   ]
  }
 ],
 "metadata": {
  "kernelspec": {
   "display_name": "Python 3.8.10 64-bit",
   "language": "python",
   "name": "python3"
  },
  "language_info": {
   "codemirror_mode": {
    "name": "ipython",
    "version": 3
   },
   "file_extension": ".py",
   "mimetype": "text/x-python",
   "name": "python",
   "nbconvert_exporter": "python",
   "pygments_lexer": "ipython3",
   "version": "3.8.10"
  },
  "orig_nbformat": 4,
  "vscode": {
   "interpreter": {
    "hash": "31a4091500e4e189a2c8351f7f1d1f915b8c747cc490d806963b82b1c811900e"
   }
  }
 },
 "nbformat": 4,
 "nbformat_minor": 2
}
